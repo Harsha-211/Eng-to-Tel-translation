{
 "cells": [
  {
   "cell_type": "code",
   "execution_count": 2,
   "id": "ad76a807-38c6-4c2b-9fef-0ce5ef3e9ca7",
   "metadata": {},
   "outputs": [],
   "source": [
    "import tensorflow as tf\n",
    "import pandas as pd\n",
    "import numpy"
   ]
  },
  {
   "cell_type": "code",
   "execution_count": 3,
   "id": "50d7bd7e-2ed6-423b-a6c6-5d7360a907e6",
   "metadata": {},
   "outputs": [],
   "source": [
    "data = pd.read_csv(\"Eng-Tel.csv\")"
   ]
  },
  {
   "cell_type": "code",
   "execution_count": 4,
   "id": "8de01b30-b258-4fee-ab1b-e4fcf41bdd08",
   "metadata": {},
   "outputs": [
    {
     "data": {
      "text/html": [
       "<div>\n",
       "<style scoped>\n",
       "    .dataframe tbody tr th:only-of-type {\n",
       "        vertical-align: middle;\n",
       "    }\n",
       "\n",
       "    .dataframe tbody tr th {\n",
       "        vertical-align: top;\n",
       "    }\n",
       "\n",
       "    .dataframe thead th {\n",
       "        text-align: right;\n",
       "    }\n",
       "</style>\n",
       "<table border=\"1\" class=\"dataframe\">\n",
       "  <thead>\n",
       "    <tr style=\"text-align: right;\">\n",
       "      <th></th>\n",
       "      <th>English Word</th>\n",
       "      <th>Telugu Translation</th>\n",
       "    </tr>\n",
       "  </thead>\n",
       "  <tbody>\n",
       "    <tr>\n",
       "      <th>0</th>\n",
       "      <td>The</td>\n",
       "      <td>ది</td>\n",
       "    </tr>\n",
       "    <tr>\n",
       "      <th>1</th>\n",
       "      <td>Lion</td>\n",
       "      <td>సింహం</td>\n",
       "    </tr>\n",
       "    <tr>\n",
       "      <th>2</th>\n",
       "      <td>King</td>\n",
       "      <td>రాజు</td>\n",
       "    </tr>\n",
       "    <tr>\n",
       "      <th>3</th>\n",
       "      <td>is</td>\n",
       "      <td>ఉంది</td>\n",
       "    </tr>\n",
       "    <tr>\n",
       "      <th>4</th>\n",
       "      <td>American</td>\n",
       "      <td>అమెరికన్</td>\n",
       "    </tr>\n",
       "  </tbody>\n",
       "</table>\n",
       "</div>"
      ],
      "text/plain": [
       "  English Word Telugu Translation\n",
       "0          The                 ది\n",
       "1         Lion              సింహం\n",
       "2         King               రాజు\n",
       "3           is               ఉంది\n",
       "4     American           అమెరికన్"
      ]
     },
     "execution_count": 4,
     "metadata": {},
     "output_type": "execute_result"
    }
   ],
   "source": [
    "data.head()"
   ]
  },
  {
   "cell_type": "markdown",
   "id": "6478e7af-bd30-4a80-91ec-330acdeb54a0",
   "metadata": {},
   "source": [
    "Tokenizer for languages"
   ]
  },
  {
   "cell_type": "code",
   "execution_count": 5,
   "id": "cde47f7a-54d0-41c2-b3a6-92411514b8ee",
   "metadata": {},
   "outputs": [],
   "source": [
    "Tokenizer_Eng = tf.keras.preprocessing.text.Tokenizer()\n",
    "Tokenizer_Tel = tf.keras.preprocessing.text.Tokenizer()"
   ]
  },
  {
   "cell_type": "code",
   "execution_count": 6,
   "id": "8bf4ce55-5632-47c2-a2c2-ea9e9f9cbea0",
   "metadata": {},
   "outputs": [],
   "source": [
    "Tokenizer_Eng.fit_on_texts(data['English Word'])\n",
    "Tokenizer_Tel.fit_on_texts(data['Telugu Translation'])"
   ]
  },
  {
   "cell_type": "markdown",
   "id": "fc5e34e6-23c7-4dc1-b2bc-85b45b9fc5e4",
   "metadata": {},
   "source": [
    "Converting text to Sequences"
   ]
  },
  {
   "cell_type": "code",
   "execution_count": 7,
   "id": "dceb90b5-c72b-47c2-9dca-b4e776098c0a",
   "metadata": {},
   "outputs": [],
   "source": [
    "train_Eng = Tokenizer_Eng.texts_to_sequences(data['English Word'])\n",
    "train_Tel = Tokenizer_Tel.texts_to_sequences(data['Telugu Translation'])"
   ]
  },
  {
   "cell_type": "markdown",
   "id": "5d3c981b-c8de-48c2-843c-0d6cb266fc16",
   "metadata": {},
   "source": [
    "Padding or Pad Sequences"
   ]
  },
  {
   "cell_type": "code",
   "execution_count": 8,
   "id": "38276fce-16bd-405b-ad7c-7950206e0846",
   "metadata": {},
   "outputs": [],
   "source": [
    "trainEng = tf.keras.preprocessing.sequence.pad_sequences(train_Eng , padding='post')\n",
    "trainTel = tf.keras.preprocessing.sequence.pad_sequences(train_Tel , padding='post')"
   ]
  },
  {
   "cell_type": "markdown",
   "id": "7015f4a6-c42a-40eb-b9dd-4924f63554fd",
   "metadata": {},
   "source": [
    "Model Declaration"
   ]
  },
  {
   "cell_type": "code",
   "execution_count": 11,
   "id": "868dcdfa-68e5-4dc2-b1be-efeb9ec8e32e",
   "metadata": {},
   "outputs": [],
   "source": [
    "Eng_vocab_size = len(Tokenizer_Eng.word_index)+1\n",
    "Tel_vocab_size = len(Tokenizer_Tel.word_index)+1\n",
    "embedding_dim = 64\n",
    "units = 128"
   ]
  },
  {
   "cell_type": "markdown",
   "id": "1b5a9fe9-44f5-45a0-9923-b736f9774e82",
   "metadata": {},
   "source": [
    "Encoder Model"
   ]
  },
  {
   "cell_type": "code",
   "execution_count": 12,
   "id": "9436c8bb-b937-4a8a-a087-d0c71c885c4c",
   "metadata": {},
   "outputs": [],
   "source": [
    "encoder_inputs = tf.keras.Input(shape=(None,))\n",
    "enc_emb = tf.keras.layers.Embedding(Eng_vocab_size,embedding_dim)(encoder_inputs)\n",
    "enc_output , state_h , state_c = tf.keras.layers.LSTM(units, return_state=True)(enc_emb)"
   ]
  },
  {
   "cell_type": "markdown",
   "id": "47e46ac8-da83-45a1-9bfb-e0faffe7f69e",
   "metadata": {},
   "source": [
    "Decoder Model"
   ]
  },
  {
   "cell_type": "code",
   "execution_count": 14,
   "id": "bd693d74-ad3c-4065-960d-3a52a9bf5c1a",
   "metadata": {},
   "outputs": [],
   "source": [
    "decoder_inputs = tf.keras.Input(shape=(None,))\n",
    "dec_emb = tf.keras.layers.Embedding(Tel_vocab_size, embedding_dim)(decoder_inputs)\n",
    "dec_lstm = tf.keras.layers.LSTM(units, return_sequences=True, return_state=True)\n",
    "dec_output, _, _ = dec_lstm(dec_emb, initial_state=[state_h, state_c])\n",
    "decoder_dense = tf.keras.layers.Dense(Tel_vocab_size, activation='softmax')\n",
    "output = decoder_dense(dec_output)"
   ]
  },
  {
   "cell_type": "code",
   "execution_count": 15,
   "id": "de220efb-4b08-47d8-ad52-8470b3eefd62",
   "metadata": {},
   "outputs": [],
   "source": [
    "model = tf.keras.Model([encoder_inputs, decoder_inputs], output)\n",
    "model.compile(optimizer='adam', loss='sparse_categorical_crossentropy', metrics=['accuracy'])"
   ]
  },
  {
   "cell_type": "code",
   "execution_count": 21,
   "id": "dc62fad1-7983-46c4-9a3a-6e22e5d09f06",
   "metadata": {},
   "outputs": [
    {
     "name": "stdout",
     "output_type": "stream",
     "text": [
      "Epoch 1/20\n",
      "\u001b[1m49/49\u001b[0m \u001b[32m━━━━━━━━━━━━━━━━━━━━\u001b[0m\u001b[37m\u001b[0m \u001b[1m5s\u001b[0m 47ms/step - accuracy: 0.8593 - loss: 7.5303 - val_accuracy: 0.9814 - val_loss: 3.5404\n",
      "Epoch 2/20\n",
      "\u001b[1m49/49\u001b[0m \u001b[32m━━━━━━━━━━━━━━━━━━━━\u001b[0m\u001b[37m\u001b[0m \u001b[1m2s\u001b[0m 39ms/step - accuracy: 0.9820 - loss: 2.6791 - val_accuracy: 0.9814 - val_loss: 0.7159\n",
      "Epoch 3/20\n",
      "\u001b[1m49/49\u001b[0m \u001b[32m━━━━━━━━━━━━━━━━━━━━\u001b[0m\u001b[37m\u001b[0m \u001b[1m2s\u001b[0m 40ms/step - accuracy: 0.9812 - loss: 0.1759 - val_accuracy: 0.9814 - val_loss: 0.4465\n",
      "Epoch 4/20\n",
      "\u001b[1m49/49\u001b[0m \u001b[32m━━━━━━━━━━━━━━━━━━━━\u001b[0m\u001b[37m\u001b[0m \u001b[1m2s\u001b[0m 39ms/step - accuracy: 0.9763 - loss: 0.1639 - val_accuracy: 0.9814 - val_loss: 0.4523\n",
      "Epoch 5/20\n",
      "\u001b[1m49/49\u001b[0m \u001b[32m━━━━━━━━━━━━━━━━━━━━\u001b[0m\u001b[37m\u001b[0m \u001b[1m2s\u001b[0m 40ms/step - accuracy: 0.9836 - loss: 0.1055 - val_accuracy: 0.9814 - val_loss: 0.4345\n",
      "Epoch 6/20\n",
      "\u001b[1m49/49\u001b[0m \u001b[32m━━━━━━━━━━━━━━━━━━━━\u001b[0m\u001b[37m\u001b[0m \u001b[1m2s\u001b[0m 41ms/step - accuracy: 0.9844 - loss: 0.0971 - val_accuracy: 0.9814 - val_loss: 0.4163\n",
      "Epoch 7/20\n",
      "\u001b[1m49/49\u001b[0m \u001b[32m━━━━━━━━━━━━━━━━━━━━\u001b[0m\u001b[37m\u001b[0m \u001b[1m2s\u001b[0m 42ms/step - accuracy: 0.9792 - loss: 0.1280 - val_accuracy: 0.9814 - val_loss: 0.3946\n",
      "Epoch 8/20\n",
      "\u001b[1m49/49\u001b[0m \u001b[32m━━━━━━━━━━━━━━━━━━━━\u001b[0m\u001b[37m\u001b[0m \u001b[1m2s\u001b[0m 39ms/step - accuracy: 0.9814 - loss: 0.1085 - val_accuracy: 0.9814 - val_loss: 0.3889\n",
      "Epoch 9/20\n",
      "\u001b[1m49/49\u001b[0m \u001b[32m━━━━━━━━━━━━━━━━━━━━\u001b[0m\u001b[37m\u001b[0m \u001b[1m2s\u001b[0m 39ms/step - accuracy: 0.9829 - loss: 0.0978 - val_accuracy: 0.9814 - val_loss: 0.3724\n",
      "Epoch 10/20\n",
      "\u001b[1m49/49\u001b[0m \u001b[32m━━━━━━━━━━━━━━━━━━━━\u001b[0m\u001b[37m\u001b[0m \u001b[1m2s\u001b[0m 39ms/step - accuracy: 0.9847 - loss: 0.0895 - val_accuracy: 0.9814 - val_loss: 0.3708\n",
      "Epoch 11/20\n",
      "\u001b[1m49/49\u001b[0m \u001b[32m━━━━━━━━━━━━━━━━━━━━\u001b[0m\u001b[37m\u001b[0m \u001b[1m2s\u001b[0m 40ms/step - accuracy: 0.9808 - loss: 0.1102 - val_accuracy: 0.9814 - val_loss: 0.3577\n",
      "Epoch 12/20\n",
      "\u001b[1m49/49\u001b[0m \u001b[32m━━━━━━━━━━━━━━━━━━━━\u001b[0m\u001b[37m\u001b[0m \u001b[1m2s\u001b[0m 39ms/step - accuracy: 0.9842 - loss: 0.0889 - val_accuracy: 0.9814 - val_loss: 0.3594\n",
      "Epoch 13/20\n",
      "\u001b[1m49/49\u001b[0m \u001b[32m━━━━━━━━━━━━━━━━━━━━\u001b[0m\u001b[37m\u001b[0m \u001b[1m2s\u001b[0m 41ms/step - accuracy: 0.9832 - loss: 0.0918 - val_accuracy: 0.9814 - val_loss: 0.3497\n",
      "Epoch 14/20\n",
      "\u001b[1m49/49\u001b[0m \u001b[32m━━━━━━━━━━━━━━━━━━━━\u001b[0m\u001b[37m\u001b[0m \u001b[1m2s\u001b[0m 48ms/step - accuracy: 0.9805 - loss: 0.1071 - val_accuracy: 0.9814 - val_loss: 0.3478\n",
      "Epoch 15/20\n",
      "\u001b[1m49/49\u001b[0m \u001b[32m━━━━━━━━━━━━━━━━━━━━\u001b[0m\u001b[37m\u001b[0m \u001b[1m2s\u001b[0m 40ms/step - accuracy: 0.9832 - loss: 0.0921 - val_accuracy: 0.9814 - val_loss: 0.3508\n",
      "Epoch 16/20\n",
      "\u001b[1m49/49\u001b[0m \u001b[32m━━━━━━━━━━━━━━━━━━━━\u001b[0m\u001b[37m\u001b[0m \u001b[1m2s\u001b[0m 40ms/step - accuracy: 0.9833 - loss: 0.0904 - val_accuracy: 0.9814 - val_loss: 0.3596\n",
      "Epoch 17/20\n",
      "\u001b[1m49/49\u001b[0m \u001b[32m━━━━━━━━━━━━━━━━━━━━\u001b[0m\u001b[37m\u001b[0m \u001b[1m2s\u001b[0m 39ms/step - accuracy: 0.9817 - loss: 0.0975 - val_accuracy: 0.9814 - val_loss: 0.3470\n",
      "Epoch 18/20\n",
      "\u001b[1m49/49\u001b[0m \u001b[32m━━━━━━━━━━━━━━━━━━━━\u001b[0m\u001b[37m\u001b[0m \u001b[1m2s\u001b[0m 40ms/step - accuracy: 0.9782 - loss: 0.1106 - val_accuracy: 0.9814 - val_loss: 0.3471\n",
      "Epoch 19/20\n",
      "\u001b[1m49/49\u001b[0m \u001b[32m━━━━━━━━━━━━━━━━━━━━\u001b[0m\u001b[37m\u001b[0m \u001b[1m2s\u001b[0m 39ms/step - accuracy: 0.9826 - loss: 0.0906 - val_accuracy: 0.9814 - val_loss: 0.3465\n",
      "Epoch 20/20\n",
      "\u001b[1m49/49\u001b[0m \u001b[32m━━━━━━━━━━━━━━━━━━━━\u001b[0m\u001b[37m\u001b[0m \u001b[1m2s\u001b[0m 40ms/step - accuracy: 0.9841 - loss: 0.0811 - val_accuracy: 0.9814 - val_loss: 0.3449\n"
     ]
    },
    {
     "data": {
      "text/plain": [
       "<keras.src.callbacks.history.History at 0x1b1c22abef0>"
      ]
     },
     "execution_count": 21,
     "metadata": {},
     "output_type": "execute_result"
    }
   ],
   "source": [
    "model.fit([trainEng, trainTel[:, :-1]], trainTel[:, 1:], \n",
    "          batch_size=64,validation_split=0.2, epochs=20)"
   ]
  },
  {
   "cell_type": "code",
   "execution_count": 26,
   "id": "39ed300a-cfad-48d5-be78-e31e3a4590b2",
   "metadata": {},
   "outputs": [],
   "source": [
    "model.save(\"model.keras\")"
   ]
  },
  {
   "cell_type": "code",
   "execution_count": 45,
   "id": "9f42c0d9-515d-431c-8ccb-0d92fc3aa461",
   "metadata": {},
   "outputs": [],
   "source": [
    "data2 = pd.read_csv('hello.csv')"
   ]
  },
  {
   "cell_type": "code",
   "execution_count": 46,
   "id": "2678d35e-406e-492b-bbe8-90a15072a07a",
   "metadata": {},
   "outputs": [
    {
     "data": {
      "text/html": [
       "<div>\n",
       "<style scoped>\n",
       "    .dataframe tbody tr th:only-of-type {\n",
       "        vertical-align: middle;\n",
       "    }\n",
       "\n",
       "    .dataframe tbody tr th {\n",
       "        vertical-align: top;\n",
       "    }\n",
       "\n",
       "    .dataframe thead th {\n",
       "        text-align: right;\n",
       "    }\n",
       "</style>\n",
       "<table border=\"1\" class=\"dataframe\">\n",
       "  <thead>\n",
       "    <tr style=\"text-align: right;\">\n",
       "      <th></th>\n",
       "      <th>words</th>\n",
       "      <th>sentences</th>\n",
       "    </tr>\n",
       "  </thead>\n",
       "  <tbody>\n",
       "    <tr>\n",
       "      <th>0</th>\n",
       "      <td>ది,లయన్,కింగ్,అనేది,2019,అమెరికన్,మ్యూజికల్,డ్...</td>\n",
       "      <td>ది లయన్ కింగ్ అనేది 2019 అమెరికన్ మ్యూజికల్ డ్...</td>\n",
       "    </tr>\n",
       "    <tr>\n",
       "      <th>1</th>\n",
       "      <td>దీనికి,జెఫ్,నాథన్సన్,రాసిన,జోన్,ఫావ్‌రో,దర్శకత...</td>\n",
       "      <td>దీనికి జెఫ్ నాథన్సన్ రాసిన జోన్ ఫావ్‌రో దర్శకత...</td>\n",
       "    </tr>\n",
       "    <tr>\n",
       "      <th>2</th>\n",
       "      <td>ఈ,చిత్రంలో,డొనాల్డ్,గ్లోవర్,సేథ్,రోజెన్,చివెటె...</td>\n",
       "      <td>ఈ చిత్రంలో డొనాల్డ్ గ్లోవర్ సేథ్ రోజెన్ చివెటె...</td>\n",
       "    </tr>\n",
       "    <tr>\n",
       "      <th>3</th>\n",
       "      <td>ఈ,కథాంశం,సింబా,ఒక,యువ,సింహాన్ని,అనుసరిస్తుంది,...</td>\n",
       "      <td>ఈ కథాంశం సింబా ఒక యువ సింహాన్ని అనుసరిస్తుంది,...</td>\n",
       "    </tr>\n",
       "    <tr>\n",
       "      <th>4</th>\n",
       "      <td>1994,ల,రీమేక్,కోసం,ప్రణాళికలు,ది,జంగిల్,బుక్,2...</td>\n",
       "      <td>1994 ల రీమేక్ కోసం ప్రణాళికలు ది జంగిల్ బుక్ 2...</td>\n",
       "    </tr>\n",
       "  </tbody>\n",
       "</table>\n",
       "</div>"
      ],
      "text/plain": [
       "                                               words  \\\n",
       "0  ది,లయన్,కింగ్,అనేది,2019,అమెరికన్,మ్యూజికల్,డ్...   \n",
       "1  దీనికి,జెఫ్,నాథన్సన్,రాసిన,జోన్,ఫావ్‌రో,దర్శకత...   \n",
       "2  ఈ,చిత్రంలో,డొనాల్డ్,గ్లోవర్,సేథ్,రోజెన్,చివెటె...   \n",
       "3  ఈ,కథాంశం,సింబా,ఒక,యువ,సింహాన్ని,అనుసరిస్తుంది,...   \n",
       "4  1994,ల,రీమేక్,కోసం,ప్రణాళికలు,ది,జంగిల్,బుక్,2...   \n",
       "\n",
       "                                           sentences  \n",
       "0  ది లయన్ కింగ్ అనేది 2019 అమెరికన్ మ్యూజికల్ డ్...  \n",
       "1  దీనికి జెఫ్ నాథన్సన్ రాసిన జోన్ ఫావ్‌రో దర్శకత...  \n",
       "2  ఈ చిత్రంలో డొనాల్డ్ గ్లోవర్ సేథ్ రోజెన్ చివెటె...  \n",
       "3  ఈ కథాంశం సింబా ఒక యువ సింహాన్ని అనుసరిస్తుంది,...  \n",
       "4  1994 ల రీమేక్ కోసం ప్రణాళికలు ది జంగిల్ బుక్ 2...  "
      ]
     },
     "execution_count": 46,
     "metadata": {},
     "output_type": "execute_result"
    }
   ],
   "source": [
    "data2.head()"
   ]
  },
  {
   "cell_type": "code",
   "execution_count": 47,
   "id": "3f0dc918-1bff-4c09-98f7-ef4922fd8485",
   "metadata": {},
   "outputs": [],
   "source": [
    "def split_and_shuffle(data):\n",
    "  return random.sample(data.split(','), len(data.split(',')))"
   ]
  },
  {
   "cell_type": "code",
   "execution_count": 50,
   "id": "53b34253-2d6d-4a57-9533-a477ef93727a",
   "metadata": {},
   "outputs": [],
   "source": [
    "data2['words'] = data2['words'].apply(split_and_shuffle)"
   ]
  },
  {
   "cell_type": "code",
   "execution_count": 51,
   "id": "e450f481-e5b7-4576-a118-6874e6496b2f",
   "metadata": {},
   "outputs": [
    {
     "data": {
      "text/html": [
       "<div>\n",
       "<style scoped>\n",
       "    .dataframe tbody tr th:only-of-type {\n",
       "        vertical-align: middle;\n",
       "    }\n",
       "\n",
       "    .dataframe tbody tr th {\n",
       "        vertical-align: top;\n",
       "    }\n",
       "\n",
       "    .dataframe thead th {\n",
       "        text-align: right;\n",
       "    }\n",
       "</style>\n",
       "<table border=\"1\" class=\"dataframe\">\n",
       "  <thead>\n",
       "    <tr style=\"text-align: right;\">\n",
       "      <th></th>\n",
       "      <th>words</th>\n",
       "      <th>sentences</th>\n",
       "    </tr>\n",
       "  </thead>\n",
       "  <tbody>\n",
       "    <tr>\n",
       "      <th>0</th>\n",
       "      <td>[ఫోటోరియలిస్టిక్, మ్యూజికల్, అనేది, అమెరికన్, ...</td>\n",
       "      <td>ది లయన్ కింగ్ అనేది 2019 అమెరికన్ మ్యూజికల్ డ్...</td>\n",
       "    </tr>\n",
       "    <tr>\n",
       "      <th>1</th>\n",
       "      <td>[మరియు, రాసిన, జోన్, ఫావ్‌రో, డిస్నీ, నాథన్సన్...</td>\n",
       "      <td>దీనికి జెఫ్ నాథన్సన్ రాసిన జోన్ ఫావ్‌రో దర్శకత...</td>\n",
       "    </tr>\n",
       "    <tr>\n",
       "      <th>2</th>\n",
       "      <td>[పాత్రను, రైట్, ఫ్లోరెన్స్, జోసెఫ్, తన, ఒలివర్...</td>\n",
       "      <td>ఈ చిత్రంలో డొనాల్డ్ గ్లోవర్ సేథ్ రోజెన్ చివెటె...</td>\n",
       "    </tr>\n",
       "    <tr>\n",
       "      <th>3</th>\n",
       "      <td>[మాతృభూమికి, యువ, హత్య, చేతిలో, తన, సింహాన్ని,...</td>\n",
       "      <td>ఈ కథాంశం సింబా ఒక యువ సింహాన్ని అనుసరిస్తుంది,...</td>\n",
       "    </tr>\n",
       "    <tr>\n",
       "      <th>4</th>\n",
       "      <td>[2016, ది, జంగిల్, విజయాల, ప్రణాళికలు, డిస్నీ,...</td>\n",
       "      <td>1994 ల రీమేక్ కోసం ప్రణాళికలు ది జంగిల్ బుక్ 2...</td>\n",
       "    </tr>\n",
       "  </tbody>\n",
       "</table>\n",
       "</div>"
      ],
      "text/plain": [
       "                                               words  \\\n",
       "0  [ఫోటోరియలిస్టిక్, మ్యూజికల్, అనేది, అమెరికన్, ...   \n",
       "1  [మరియు, రాసిన, జోన్, ఫావ్‌రో, డిస్నీ, నాథన్సన్...   \n",
       "2  [పాత్రను, రైట్, ఫ్లోరెన్స్, జోసెఫ్, తన, ఒలివర్...   \n",
       "3  [మాతృభూమికి, యువ, హత్య, చేతిలో, తన, సింహాన్ని,...   \n",
       "4  [2016, ది, జంగిల్, విజయాల, ప్రణాళికలు, డిస్నీ,...   \n",
       "\n",
       "                                           sentences  \n",
       "0  ది లయన్ కింగ్ అనేది 2019 అమెరికన్ మ్యూజికల్ డ్...  \n",
       "1  దీనికి జెఫ్ నాథన్సన్ రాసిన జోన్ ఫావ్‌రో దర్శకత...  \n",
       "2  ఈ చిత్రంలో డొనాల్డ్ గ్లోవర్ సేథ్ రోజెన్ చివెటె...  \n",
       "3  ఈ కథాంశం సింబా ఒక యువ సింహాన్ని అనుసరిస్తుంది,...  \n",
       "4  1994 ల రీమేక్ కోసం ప్రణాళికలు ది జంగిల్ బుక్ 2...  "
      ]
     },
     "execution_count": 51,
     "metadata": {},
     "output_type": "execute_result"
    }
   ],
   "source": [
    "data2.head()"
   ]
  },
  {
   "cell_type": "code",
   "execution_count": 52,
   "id": "2e0594b9-32a1-4ab3-a664-80d8cd82cb05",
   "metadata": {},
   "outputs": [],
   "source": [
    "tokenizer_Words = tf.keras.preprocessing.text.Tokenizer()\n",
    "tokenizer_Sen = tf.keras.preprocessing.text.Tokenizer()"
   ]
  },
  {
   "cell_type": "code",
   "execution_count": 54,
   "id": "0078a94f-2c6e-4fd8-b023-a3a61d644ff3",
   "metadata": {},
   "outputs": [],
   "source": [
    "tokenizer_Words.fit_on_texts(data2['words'])\n",
    "tokenizer_Sen.fit_on_texts(data2['sentences'])"
   ]
  },
  {
   "cell_type": "code",
   "execution_count": 56,
   "id": "9318f10a-dd2a-4fc5-94b2-f3853055ee12",
   "metadata": {},
   "outputs": [],
   "source": [
    "train_input_seq = tokenizer_Words.texts_to_sequences(data2['words'])\n",
    "train_output_seq = tokenizer_Sen.texts_to_sequences(data2['sentences'])"
   ]
  },
  {
   "cell_type": "code",
   "execution_count": 57,
   "id": "76f0faa0-2731-4a47-8db6-67c070ff7bc7",
   "metadata": {},
   "outputs": [],
   "source": [
    "train_input_seq = tf.keras.preprocessing.sequence.pad_sequences(train_input_seq, padding='post')\n",
    "train_output_seq = tf.keras.preprocessing.sequence.pad_sequences(train_output_seq, padding='post')"
   ]
  },
  {
   "cell_type": "markdown",
   "id": "7ac54582-cdc1-4341-a70c-b99a63cf6cb6",
   "metadata": {},
   "source": [
    "Model Creation"
   ]
  },
  {
   "cell_type": "code",
   "execution_count": 58,
   "id": "2bef6011-d433-47b4-8323-5d95780c4e51",
   "metadata": {},
   "outputs": [],
   "source": [
    "input_vocab_size = len(tokenizer_Words.word_index) + 1\n",
    "output_vocab_size = len(tokenizer_Sen.word_index) + 1\n",
    "embedding_dim = 64\n",
    "units = 128"
   ]
  },
  {
   "cell_type": "code",
   "execution_count": 59,
   "id": "2b0b3d6d-73b4-43aa-ac29-3e48b30a5254",
   "metadata": {},
   "outputs": [],
   "source": [
    "encoder_inputs = tf.keras.Input(shape=(None,))\n",
    "enc_emb = tf.keras.layers.Embedding(input_vocab_size, embedding_dim)(encoder_inputs)\n",
    "enc_output, state_h, state_c = tf.keras.layers.LSTM(units, return_state=True)(enc_emb)"
   ]
  },
  {
   "cell_type": "code",
   "execution_count": 60,
   "id": "9c7fd446-46c0-4adf-9328-a752581da0f9",
   "metadata": {},
   "outputs": [],
   "source": [
    "decoder_inputs = tf.keras.Input(shape=(None,))\n",
    "dec_emb = tf.keras.layers.Embedding(output_vocab_size, embedding_dim)(decoder_inputs)\n",
    "dec_lstm = tf.keras.layers.LSTM(units, return_sequences=True, return_state=True)\n",
    "dec_output, _, _ = dec_lstm(dec_emb, initial_state=[state_h, state_c])\n",
    "decoder_dense = tf.keras.layers.Dense(output_vocab_size, activation='softmax')\n",
    "output = decoder_dense(dec_output)"
   ]
  },
  {
   "cell_type": "code",
   "execution_count": 81,
   "id": "6203bfe7-02d2-4b77-beaf-5585dab3b35c",
   "metadata": {},
   "outputs": [],
   "source": [
    "model2 = tf.keras.Model([encoder_inputs, decoder_inputs], output)\n",
    "model2.compile(optimizer='adam', loss='sparse_categorical_crossentropy', metrics=['accuracy'])"
   ]
  },
  {
   "cell_type": "code",
   "execution_count": 82,
   "id": "e1bdd1de-f88c-41a3-b40a-4617354cd8ac",
   "metadata": {},
   "outputs": [],
   "source": [
    "batch_size = 64\n",
    "epochs = 20"
   ]
  },
  {
   "cell_type": "code",
   "execution_count": 83,
   "id": "ca4a1822-c314-488b-9e1e-ed2fd6cd02e5",
   "metadata": {},
   "outputs": [
    {
     "name": "stdout",
     "output_type": "stream",
     "text": [
      "Epoch 1/20\n",
      "\u001b[1m13/13\u001b[0m \u001b[32m━━━━━━━━━━━━━━━━━━━━\u001b[0m\u001b[37m\u001b[0m \u001b[1m8s\u001b[0m 374ms/step - accuracy: 0.7737 - loss: 1.7426 - val_accuracy: 0.7455 - val_loss: 2.1943\n",
      "Epoch 2/20\n",
      "\u001b[1m13/13\u001b[0m \u001b[32m━━━━━━━━━━━━━━━━━━━━\u001b[0m\u001b[37m\u001b[0m \u001b[1m5s\u001b[0m 356ms/step - accuracy: 0.7726 - loss: 1.7307 - val_accuracy: 0.7454 - val_loss: 2.2207\n",
      "Epoch 3/20\n",
      "\u001b[1m13/13\u001b[0m \u001b[32m━━━━━━━━━━━━━━━━━━━━\u001b[0m\u001b[37m\u001b[0m \u001b[1m4s\u001b[0m 338ms/step - accuracy: 0.7774 - loss: 1.6720 - val_accuracy: 0.7455 - val_loss: 2.2507\n",
      "Epoch 4/20\n",
      "\u001b[1m13/13\u001b[0m \u001b[32m━━━━━━━━━━━━━━━━━━━━\u001b[0m\u001b[37m\u001b[0m \u001b[1m4s\u001b[0m 337ms/step - accuracy: 0.7670 - loss: 1.7428 - val_accuracy: 0.7447 - val_loss: 2.2987\n",
      "Epoch 5/20\n",
      "\u001b[1m13/13\u001b[0m \u001b[32m━━━━━━━━━━━━━━━━━━━━\u001b[0m\u001b[37m\u001b[0m \u001b[1m4s\u001b[0m 336ms/step - accuracy: 0.7722 - loss: 1.6927 - val_accuracy: 0.7456 - val_loss: 2.3009\n",
      "Epoch 6/20\n",
      "\u001b[1m13/13\u001b[0m \u001b[32m━━━━━━━━━━━━━━━━━━━━\u001b[0m\u001b[37m\u001b[0m \u001b[1m4s\u001b[0m 344ms/step - accuracy: 0.7807 - loss: 1.6193 - val_accuracy: 0.7456 - val_loss: 2.3285\n",
      "Epoch 7/20\n",
      "\u001b[1m13/13\u001b[0m \u001b[32m━━━━━━━━━━━━━━━━━━━━\u001b[0m\u001b[37m\u001b[0m \u001b[1m4s\u001b[0m 327ms/step - accuracy: 0.7797 - loss: 1.6095 - val_accuracy: 0.7452 - val_loss: 2.3559\n",
      "Epoch 8/20\n",
      "\u001b[1m13/13\u001b[0m \u001b[32m━━━━━━━━━━━━━━━━━━━━\u001b[0m\u001b[37m\u001b[0m \u001b[1m4s\u001b[0m 337ms/step - accuracy: 0.7793 - loss: 1.6013 - val_accuracy: 0.7457 - val_loss: 2.3667\n",
      "Epoch 9/20\n",
      "\u001b[1m13/13\u001b[0m \u001b[32m━━━━━━━━━━━━━━━━━━━━\u001b[0m\u001b[37m\u001b[0m \u001b[1m4s\u001b[0m 326ms/step - accuracy: 0.7804 - loss: 1.5799 - val_accuracy: 0.7456 - val_loss: 2.3833\n",
      "Epoch 10/20\n",
      "\u001b[1m13/13\u001b[0m \u001b[32m━━━━━━━━━━━━━━━━━━━━\u001b[0m\u001b[37m\u001b[0m \u001b[1m4s\u001b[0m 343ms/step - accuracy: 0.7728 - loss: 1.6214 - val_accuracy: 0.7450 - val_loss: 2.3964\n",
      "Epoch 11/20\n",
      "\u001b[1m13/13\u001b[0m \u001b[32m━━━━━━━━━━━━━━━━━━━━\u001b[0m\u001b[37m\u001b[0m \u001b[1m4s\u001b[0m 328ms/step - accuracy: 0.7844 - loss: 1.5305 - val_accuracy: 0.7453 - val_loss: 2.4053\n",
      "Epoch 12/20\n",
      "\u001b[1m13/13\u001b[0m \u001b[32m━━━━━━━━━━━━━━━━━━━━\u001b[0m\u001b[37m\u001b[0m \u001b[1m4s\u001b[0m 329ms/step - accuracy: 0.7754 - loss: 1.5861 - val_accuracy: 0.7448 - val_loss: 2.4210\n",
      "Epoch 13/20\n",
      "\u001b[1m13/13\u001b[0m \u001b[32m━━━━━━━━━━━━━━━━━━━━\u001b[0m\u001b[37m\u001b[0m \u001b[1m4s\u001b[0m 331ms/step - accuracy: 0.7694 - loss: 1.6104 - val_accuracy: 0.7449 - val_loss: 2.4384\n",
      "Epoch 14/20\n",
      "\u001b[1m13/13\u001b[0m \u001b[32m━━━━━━━━━━━━━━━━━━━━\u001b[0m\u001b[37m\u001b[0m \u001b[1m4s\u001b[0m 327ms/step - accuracy: 0.7731 - loss: 1.5788 - val_accuracy: 0.7446 - val_loss: 2.4472\n",
      "Epoch 15/20\n",
      "\u001b[1m13/13\u001b[0m \u001b[32m━━━━━━━━━━━━━━━━━━━━\u001b[0m\u001b[37m\u001b[0m \u001b[1m4s\u001b[0m 329ms/step - accuracy: 0.7782 - loss: 1.5329 - val_accuracy: 0.7447 - val_loss: 2.4599\n",
      "Epoch 16/20\n",
      "\u001b[1m13/13\u001b[0m \u001b[32m━━━━━━━━━━━━━━━━━━━━\u001b[0m\u001b[37m\u001b[0m \u001b[1m4s\u001b[0m 326ms/step - accuracy: 0.7690 - loss: 1.5857 - val_accuracy: 0.7441 - val_loss: 2.4690\n",
      "Epoch 17/20\n",
      "\u001b[1m13/13\u001b[0m \u001b[32m━━━━━━━━━━━━━━━━━━━━\u001b[0m\u001b[37m\u001b[0m \u001b[1m4s\u001b[0m 328ms/step - accuracy: 0.7761 - loss: 1.5296 - val_accuracy: 0.7441 - val_loss: 2.4819\n",
      "Epoch 18/20\n",
      "\u001b[1m13/13\u001b[0m \u001b[32m━━━━━━━━━━━━━━━━━━━━\u001b[0m\u001b[37m\u001b[0m \u001b[1m4s\u001b[0m 346ms/step - accuracy: 0.7825 - loss: 1.4686 - val_accuracy: 0.7441 - val_loss: 2.4901\n",
      "Epoch 19/20\n",
      "\u001b[1m13/13\u001b[0m \u001b[32m━━━━━━━━━━━━━━━━━━━━\u001b[0m\u001b[37m\u001b[0m \u001b[1m4s\u001b[0m 331ms/step - accuracy: 0.7800 - loss: 1.4813 - val_accuracy: 0.7446 - val_loss: 2.5045\n",
      "Epoch 20/20\n",
      "\u001b[1m13/13\u001b[0m \u001b[32m━━━━━━━━━━━━━━━━━━━━\u001b[0m\u001b[37m\u001b[0m \u001b[1m4s\u001b[0m 330ms/step - accuracy: 0.7809 - loss: 1.4696 - val_accuracy: 0.7442 - val_loss: 2.5127\n"
     ]
    },
    {
     "data": {
      "text/plain": [
       "<keras.src.callbacks.history.History at 0x1b1e3496ae0>"
      ]
     },
     "execution_count": 83,
     "metadata": {},
     "output_type": "execute_result"
    }
   ],
   "source": [
    "model2.fit([train_input_seq, train_output_seq[:, :-1]], train_output_seq[:, 1:], \n",
    "          validation_split=0.2,\n",
    "          batch_size=batch_size, epochs=epochs)"
   ]
  }
 ],
 "metadata": {
  "kernelspec": {
   "display_name": "Python 3 (ipykernel)",
   "language": "python",
   "name": "python3"
  },
  "language_info": {
   "codemirror_mode": {
    "name": "ipython",
    "version": 3
   },
   "file_extension": ".py",
   "mimetype": "text/x-python",
   "name": "python",
   "nbconvert_exporter": "python",
   "pygments_lexer": "ipython3",
   "version": "3.12.3"
  }
 },
 "nbformat": 4,
 "nbformat_minor": 5
}
