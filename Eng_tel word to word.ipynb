{
 "cells": [
  {
   "cell_type": "code",
   "execution_count": 188,
   "id": "486b21da-dd4e-4270-83e8-1f50038b0069",
   "metadata": {},
   "outputs": [],
   "source": [
    "from googletrans import Translator"
   ]
  },
  {
   "cell_type": "code",
   "execution_count": 189,
   "id": "c7a1f501-f8bc-4c6b-b817-d6f01707fa11",
   "metadata": {},
   "outputs": [],
   "source": [
    "def get_translation(word):\n",
    "    translator = Translator()\n",
    "    translation = translator.translate(word, src = \"en\",dest = \"te\").text\n",
    "    return translation"
   ]
  },
  {
   "cell_type": "code",
   "execution_count": 190,
   "id": "5e712b9f-87ab-4149-b499-eb4edc7248d5",
   "metadata": {},
   "outputs": [],
   "source": [
    "import wikipediaapi\n",
    "import wikipedia"
   ]
  },
  {
   "cell_type": "code",
   "execution_count": 191,
   "id": "fe97d53c-dc37-422c-8938-40978c6b680d",
   "metadata": {},
   "outputs": [],
   "source": [
    "wiki_wiki = wikipediaapi.Wikipedia('Tomdara','en')"
   ]
  },
  {
   "cell_type": "code",
   "execution_count": 192,
   "id": "151944bb-fa98-489a-af1a-8837579b5846",
   "metadata": {},
   "outputs": [],
   "source": [
    "def fetch_wikipedia_data(question , top_n=1):\n",
    "    search_results = wikipedia.search(question)\n",
    "\n",
    "    articles = []\n",
    "    for title in search_results[:top_n]:\n",
    "        page = wiki_wiki.page(title)\n",
    "        if page.exists():\n",
    "            articles.append(page.text)\n",
    "\n",
    "    return articles"
   ]
  },
  {
   "cell_type": "code",
   "execution_count": 193,
   "id": "0a6eea92-35ef-4f8e-87d9-853d69c04d0e",
   "metadata": {},
   "outputs": [],
   "source": [
    "Que = [\"Lion King Movie\",\"what is Titanic movie\",\"what is a Audi car\",\"what is a google\"]\n",
    "final_data = [] "
   ]
  },
  {
   "cell_type": "code",
   "execution_count": 194,
   "id": "7e445e24-9520-44a4-8d0e-ca794056b002",
   "metadata": {},
   "outputs": [],
   "source": [
    "for word in Que:\n",
    "    data = fetch_wikipedia_data(word)\n",
    "    final_data.append(data)"
   ]
  },
  {
   "cell_type": "code",
   "execution_count": 195,
   "id": "ccf0fb7e-d94e-44b7-9d4a-8c27f0f62137",
   "metadata": {},
   "outputs": [
    {
     "data": {
      "text/plain": [
       "list"
      ]
     },
     "execution_count": 195,
     "metadata": {},
     "output_type": "execute_result"
    }
   ],
   "source": [
    "type(final_data)"
   ]
  },
  {
   "cell_type": "code",
   "execution_count": 196,
   "id": "b38a741b-8baf-493c-8655-a71c22928e43",
   "metadata": {},
   "outputs": [],
   "source": [
    "import re\n",
    "from bs4 import BeautifulSoup"
   ]
  },
  {
   "cell_type": "code",
   "execution_count": 197,
   "id": "b2adb9ea-0af3-42df-aa8b-9b63136faf02",
   "metadata": {},
   "outputs": [],
   "source": [
    "def remove_tags(text):\n",
    "    html = BeautifulSoup(text)\n",
    "    return html.text"
   ]
  },
  {
   "cell_type": "code",
   "execution_count": 198,
   "id": "d17c8f1f-abfe-405c-92b7-36db1424272b",
   "metadata": {},
   "outputs": [],
   "source": [
    "def remove_tags(text):\n",
    "    html = BeautifulSoup(text)\n",
    "    return html.text\n",
    "def remove_punctuations(text):\n",
    "    return re.sub('[^a-zA-Z]',' ',text)\n",
    "def remove_spaces(text):\n",
    "    return re.sub(r'\\s+',' ',text)\n",
    "def remove_singles(text):\n",
    "    return re.sub(r'\\b[a-zA-Z]\\b','' ,text)"
   ]
  },
  {
   "cell_type": "code",
   "execution_count": 199,
   "id": "e80b2259-b735-43e8-8374-d89f20d236b3",
   "metadata": {},
   "outputs": [],
   "source": [
    "def clean_text(text):\n",
    "    text = remove_tags(text)\n",
    "    text = remove_singles(text)\n",
    "    text = remove_spaces(text)\n",
    "    return text"
   ]
  },
  {
   "cell_type": "code",
   "execution_count": 200,
   "id": "95d99537-723c-408f-a9dc-85ed56a21586",
   "metadata": {},
   "outputs": [],
   "source": [
    "one = final_data[0]"
   ]
  },
  {
   "cell_type": "code",
   "execution_count": 201,
   "id": "80d40f68-608f-4a6c-bfef-26523f8689ef",
   "metadata": {},
   "outputs": [
    {
     "data": {
      "text/plain": [
       "list"
      ]
     },
     "execution_count": 201,
     "metadata": {},
     "output_type": "execute_result"
    }
   ],
   "source": [
    "type(one)"
   ]
  },
  {
   "cell_type": "code",
   "execution_count": 202,
   "id": "f7ad328c-de18-42b7-ab7b-bd39d7a78ea7",
   "metadata": {},
   "outputs": [],
   "source": [
    "data = one[0]"
   ]
  },
  {
   "cell_type": "code",
   "execution_count": 203,
   "id": "50af1d5c-b0a7-4486-a9f8-32d0bc7b4323",
   "metadata": {},
   "outputs": [],
   "source": [
    "data2 = final_data[1][0]\n",
    "data3 = final_data[2][0]\n",
    "data4 = final_data[3][0]"
   ]
  },
  {
   "cell_type": "code",
   "execution_count": 204,
   "id": "2afdc4ab-7509-4782-8352-e00d22f2227b",
   "metadata": {},
   "outputs": [],
   "source": [
    "data_list = list(dict.fromkeys(data_list))"
   ]
  },
  {
   "cell_type": "code",
   "execution_count": 213,
   "id": "7de0e460-10fe-4b32-9062-8ed615cdf89e",
   "metadata": {},
   "outputs": [
    {
     "data": {
      "text/plain": [
       "55399"
      ]
     },
     "execution_count": 213,
     "metadata": {},
     "output_type": "execute_result"
    }
   ],
   "source": [
    "len(data4)"
   ]
  },
  {
   "cell_type": "code",
   "execution_count": 212,
   "id": "347524ab-db86-41b5-b5bd-5eb3a91b4df2",
   "metadata": {},
   "outputs": [],
   "source": [
    "data = remove_punctuations(data)\n",
    "data = clean_text(data)\n",
    "data2 = remove_punctuations(data2)\n",
    "data2 = clean_text(data2)\n",
    "data3 = remove_punctuations(data3)\n",
    "data3 = clean_text(data3)\n",
    "data4 = remove_punctuations(data4)\n",
    "data4 = clean_text(data4)"
   ]
  },
  {
   "cell_type": "code",
   "execution_count": 232,
   "id": "74743f30-d405-4450-b3fa-66c0ce928fc5",
   "metadata": {},
   "outputs": [],
   "source": [
    "data = data.split()\n",
    "data2 = data2.split()\n",
    "data3 = data3.split()"
   ]
  },
  {
   "cell_type": "code",
   "execution_count": 216,
   "id": "aca69236-02e6-48a5-9034-719136d629e5",
   "metadata": {},
   "outputs": [],
   "source": [
    "data4 = data4.split()"
   ]
  },
  {
   "cell_type": "code",
   "execution_count": 221,
   "id": "eddf1c8f-a45b-4840-80dc-14a624bb0bf7",
   "metadata": {},
   "outputs": [
    {
     "data": {
      "text/plain": [
       "list"
      ]
     },
     "execution_count": 221,
     "metadata": {},
     "output_type": "execute_result"
    }
   ],
   "source": [
    "type(data4)"
   ]
  },
  {
   "cell_type": "code",
   "execution_count": 222,
   "id": "5d2da2d4-f2f5-4b25-82a4-82a7fe318cff",
   "metadata": {},
   "outputs": [],
   "source": [
    "data = list(dict.fromkeys(data))\n",
    "data2 = list(dict.fromkeys(data2))\n",
    "data3 = list(dict.fromkeys(data3))\n",
    "data4 = list(dict.fromkeys(data4))"
   ]
  },
  {
   "cell_type": "code",
   "execution_count": 248,
   "id": "82cf7480-65c2-4285-8ed8-899f014e5d84",
   "metadata": {},
   "outputs": [
    {
     "data": {
      "text/plain": [
       "1546"
      ]
     },
     "execution_count": 248,
     "metadata": {},
     "output_type": "execute_result"
    }
   ],
   "source": [
    "len(data3)"
   ]
  },
  {
   "cell_type": "code",
   "execution_count": 230,
   "id": "d9ad89e0-8c29-4236-a20c-ee98cb24a136",
   "metadata": {},
   "outputs": [],
   "source": [
    "dataset = []"
   ]
  },
  {
   "cell_type": "code",
   "execution_count": 250,
   "id": "0e401840-3ced-476b-b047-0e215d178570",
   "metadata": {},
   "outputs": [],
   "source": [
    "data_1 = data2[:200]\n",
    "data_2 = data2[200:400]\n",
    "data_3 = data2[400:600]\n",
    "data_4 = data2[600:800]\n",
    "data_5 = data2[800:1000]\n",
    "data_6 = data2[1000:1200]\n",
    "data_7 = data2[1200:1400]\n",
    "data_8 = data2[1400:]"
   ]
  },
  {
   "cell_type": "code",
   "execution_count": 251,
   "id": "b3819a71-225d-42f0-8301-0b2008483039",
   "metadata": {},
   "outputs": [],
   "source": [
    "for word in data_1:\n",
    "    trans = get_translation(word)\n",
    "    dataset.append((word,trans))"
   ]
  },
  {
   "cell_type": "code",
   "execution_count": 252,
   "id": "bd2c29fd-c510-413d-8582-4b7b96f01a4b",
   "metadata": {},
   "outputs": [],
   "source": [
    "for word in data_2:\n",
    "    trans = get_translation(word)\n",
    "    dataset.append((word,trans))"
   ]
  },
  {
   "cell_type": "code",
   "execution_count": 253,
   "id": "a59ea2ab-adf6-43c4-8775-a4cdcd904c17",
   "metadata": {},
   "outputs": [],
   "source": [
    "for word in data_3:\n",
    "    trans = get_translation(word)\n",
    "    dataset.append((word,trans))"
   ]
  },
  {
   "cell_type": "code",
   "execution_count": 254,
   "id": "795b59b6-b333-4f2f-8ab8-67ce2ddc86ba",
   "metadata": {},
   "outputs": [],
   "source": [
    "for word in data_4:\n",
    "    trans = get_translation(word)\n",
    "    dataset.append((word,trans))"
   ]
  },
  {
   "cell_type": "code",
   "execution_count": 255,
   "id": "3113895a-f4b3-4252-af54-dd4c09b8c949",
   "metadata": {},
   "outputs": [],
   "source": [
    "for word in data_5:\n",
    "    trans = get_translation(word)\n",
    "    dataset.append((word,trans))"
   ]
  },
  {
   "cell_type": "code",
   "execution_count": 257,
   "id": "40493d20-7752-4159-ab1a-d2df93b9bb00",
   "metadata": {},
   "outputs": [],
   "source": [
    "for word in data_6:\n",
    "    trans = get_translation(word)\n",
    "    dataset.append((word,trans))"
   ]
  },
  {
   "cell_type": "code",
   "execution_count": 258,
   "id": "e8f22ef2-a926-42aa-8a0c-b530937fcb35",
   "metadata": {},
   "outputs": [],
   "source": [
    "for word in data_7:\n",
    "    trans = get_translation(word)\n",
    "    dataset.append((word,trans))"
   ]
  },
  {
   "cell_type": "code",
   "execution_count": 261,
   "id": "6d519e9e-aa8c-4d3e-a4f5-ca306a03d158",
   "metadata": {},
   "outputs": [
    {
     "ename": "KeyboardInterrupt",
     "evalue": "",
     "output_type": "error",
     "traceback": [
      "\u001b[1;31m---------------------------------------------------------------------------\u001b[0m",
      "\u001b[1;31mKeyboardInterrupt\u001b[0m                         Traceback (most recent call last)",
      "Cell \u001b[1;32mIn[261], line 2\u001b[0m\n\u001b[0;32m      1\u001b[0m \u001b[38;5;28;01mfor\u001b[39;00m word \u001b[38;5;129;01min\u001b[39;00m data_8:\n\u001b[1;32m----> 2\u001b[0m     trans \u001b[38;5;241m=\u001b[39m \u001b[43mget_translation\u001b[49m\u001b[43m(\u001b[49m\u001b[43mword\u001b[49m\u001b[43m)\u001b[49m\n\u001b[0;32m      3\u001b[0m     dataset\u001b[38;5;241m.\u001b[39mappend((word,trans))\n",
      "Cell \u001b[1;32mIn[189], line 2\u001b[0m, in \u001b[0;36mget_translation\u001b[1;34m(word)\u001b[0m\n\u001b[0;32m      1\u001b[0m \u001b[38;5;28;01mdef\u001b[39;00m \u001b[38;5;21mget_translation\u001b[39m(word):\n\u001b[1;32m----> 2\u001b[0m     translator \u001b[38;5;241m=\u001b[39m \u001b[43mTranslator\u001b[49m\u001b[43m(\u001b[49m\u001b[43m)\u001b[49m\n\u001b[0;32m      3\u001b[0m     translation \u001b[38;5;241m=\u001b[39m translator\u001b[38;5;241m.\u001b[39mtranslate(word, src \u001b[38;5;241m=\u001b[39m \u001b[38;5;124m\"\u001b[39m\u001b[38;5;124men\u001b[39m\u001b[38;5;124m\"\u001b[39m,dest \u001b[38;5;241m=\u001b[39m \u001b[38;5;124m\"\u001b[39m\u001b[38;5;124mte\u001b[39m\u001b[38;5;124m\"\u001b[39m)\u001b[38;5;241m.\u001b[39mtext\n\u001b[0;32m      4\u001b[0m     \u001b[38;5;28;01mreturn\u001b[39;00m translation\n",
      "File \u001b[1;32m~\\AppData\\Roaming\\Python\\Python312\\site-packages\\googletrans\\client.py:67\u001b[0m, in \u001b[0;36mTranslator.__init__\u001b[1;34m(self, service_urls, user_agent, raise_exception, proxies, timeout, http2, use_fallback)\u001b[0m\n\u001b[0;32m     60\u001b[0m \u001b[38;5;28;01mdef\u001b[39;00m \u001b[38;5;21m__init__\u001b[39m(\u001b[38;5;28mself\u001b[39m, service_urls\u001b[38;5;241m=\u001b[39mDEFAULT_CLIENT_SERVICE_URLS, user_agent\u001b[38;5;241m=\u001b[39mDEFAULT_USER_AGENT,\n\u001b[0;32m     61\u001b[0m              raise_exception\u001b[38;5;241m=\u001b[39mDEFAULT_RAISE_EXCEPTION,\n\u001b[0;32m     62\u001b[0m              proxies: typing\u001b[38;5;241m.\u001b[39mDict[\u001b[38;5;28mstr\u001b[39m, httpcore\u001b[38;5;241m.\u001b[39mSyncHTTPTransport] \u001b[38;5;241m=\u001b[39m \u001b[38;5;28;01mNone\u001b[39;00m,\n\u001b[0;32m     63\u001b[0m              timeout: Timeout \u001b[38;5;241m=\u001b[39m \u001b[38;5;28;01mNone\u001b[39;00m,\n\u001b[0;32m     64\u001b[0m              http2\u001b[38;5;241m=\u001b[39m\u001b[38;5;28;01mTrue\u001b[39;00m,\n\u001b[0;32m     65\u001b[0m              use_fallback\u001b[38;5;241m=\u001b[39m\u001b[38;5;28;01mFalse\u001b[39;00m):\n\u001b[1;32m---> 67\u001b[0m     \u001b[38;5;28mself\u001b[39m\u001b[38;5;241m.\u001b[39mclient \u001b[38;5;241m=\u001b[39m \u001b[43mhttpx\u001b[49m\u001b[38;5;241;43m.\u001b[39;49m\u001b[43mClient\u001b[49m\u001b[43m(\u001b[49m\u001b[43mhttp2\u001b[49m\u001b[38;5;241;43m=\u001b[39;49m\u001b[43mhttp2\u001b[49m\u001b[43m)\u001b[49m\n\u001b[0;32m     68\u001b[0m     \u001b[38;5;28;01mif\u001b[39;00m proxies \u001b[38;5;129;01mis\u001b[39;00m \u001b[38;5;129;01mnot\u001b[39;00m \u001b[38;5;28;01mNone\u001b[39;00m:  \u001b[38;5;66;03m# pragma: nocover\u001b[39;00m\n\u001b[0;32m     69\u001b[0m         \u001b[38;5;28mself\u001b[39m\u001b[38;5;241m.\u001b[39mclient\u001b[38;5;241m.\u001b[39mproxies \u001b[38;5;241m=\u001b[39m proxies\n",
      "File \u001b[1;32m~\\AppData\\Roaming\\Python\\Python312\\site-packages\\httpx\\_client.py:477\u001b[0m, in \u001b[0;36mClient.__init__\u001b[1;34m(self, auth, params, headers, cookies, verify, cert, http2, proxies, timeout, pool_limits, max_redirects, base_url, transport, dispatch, app, trust_env)\u001b[0m\n\u001b[0;32m    474\u001b[0m     \u001b[38;5;28;01mif\u001b[39;00m transport \u001b[38;5;129;01mis\u001b[39;00m \u001b[38;5;28;01mNone\u001b[39;00m:\n\u001b[0;32m    475\u001b[0m         transport \u001b[38;5;241m=\u001b[39m dispatch\n\u001b[1;32m--> 477\u001b[0m \u001b[38;5;28mself\u001b[39m\u001b[38;5;241m.\u001b[39mtransport \u001b[38;5;241m=\u001b[39m \u001b[38;5;28;43mself\u001b[39;49m\u001b[38;5;241;43m.\u001b[39;49m\u001b[43minit_transport\u001b[49m\u001b[43m(\u001b[49m\n\u001b[0;32m    478\u001b[0m \u001b[43m    \u001b[49m\u001b[43mverify\u001b[49m\u001b[38;5;241;43m=\u001b[39;49m\u001b[43mverify\u001b[49m\u001b[43m,\u001b[49m\n\u001b[0;32m    479\u001b[0m \u001b[43m    \u001b[49m\u001b[43mcert\u001b[49m\u001b[38;5;241;43m=\u001b[39;49m\u001b[43mcert\u001b[49m\u001b[43m,\u001b[49m\n\u001b[0;32m    480\u001b[0m \u001b[43m    \u001b[49m\u001b[43mhttp2\u001b[49m\u001b[38;5;241;43m=\u001b[39;49m\u001b[43mhttp2\u001b[49m\u001b[43m,\u001b[49m\n\u001b[0;32m    481\u001b[0m \u001b[43m    \u001b[49m\u001b[43mpool_limits\u001b[49m\u001b[38;5;241;43m=\u001b[39;49m\u001b[43mpool_limits\u001b[49m\u001b[43m,\u001b[49m\n\u001b[0;32m    482\u001b[0m \u001b[43m    \u001b[49m\u001b[43mtransport\u001b[49m\u001b[38;5;241;43m=\u001b[39;49m\u001b[43mtransport\u001b[49m\u001b[43m,\u001b[49m\n\u001b[0;32m    483\u001b[0m \u001b[43m    \u001b[49m\u001b[43mapp\u001b[49m\u001b[38;5;241;43m=\u001b[39;49m\u001b[43mapp\u001b[49m\u001b[43m,\u001b[49m\n\u001b[0;32m    484\u001b[0m \u001b[43m    \u001b[49m\u001b[43mtrust_env\u001b[49m\u001b[38;5;241;43m=\u001b[39;49m\u001b[43mtrust_env\u001b[49m\u001b[43m,\u001b[49m\n\u001b[0;32m    485\u001b[0m \u001b[43m\u001b[49m\u001b[43m)\u001b[49m\n\u001b[0;32m    486\u001b[0m \u001b[38;5;28mself\u001b[39m\u001b[38;5;241m.\u001b[39mproxies: typing\u001b[38;5;241m.\u001b[39mDict[\u001b[38;5;28mstr\u001b[39m, httpcore\u001b[38;5;241m.\u001b[39mSyncHTTPTransport] \u001b[38;5;241m=\u001b[39m {\n\u001b[0;32m    487\u001b[0m     key: \u001b[38;5;28mself\u001b[39m\u001b[38;5;241m.\u001b[39minit_proxy_transport(\n\u001b[0;32m    488\u001b[0m         proxy,\n\u001b[1;32m   (...)\u001b[0m\n\u001b[0;32m    495\u001b[0m     \u001b[38;5;28;01mfor\u001b[39;00m key, proxy \u001b[38;5;129;01min\u001b[39;00m proxy_map\u001b[38;5;241m.\u001b[39mitems()\n\u001b[0;32m    496\u001b[0m }\n",
      "File \u001b[1;32m~\\AppData\\Roaming\\Python\\Python312\\site-packages\\httpx\\_client.py:514\u001b[0m, in \u001b[0;36mClient.init_transport\u001b[1;34m(self, verify, cert, http2, pool_limits, transport, app, trust_env)\u001b[0m\n\u001b[0;32m    511\u001b[0m \u001b[38;5;28;01mif\u001b[39;00m app \u001b[38;5;129;01mis\u001b[39;00m \u001b[38;5;129;01mnot\u001b[39;00m \u001b[38;5;28;01mNone\u001b[39;00m:\n\u001b[0;32m    512\u001b[0m     \u001b[38;5;28;01mreturn\u001b[39;00m WSGITransport(app\u001b[38;5;241m=\u001b[39mapp)\n\u001b[1;32m--> 514\u001b[0m ssl_context \u001b[38;5;241m=\u001b[39m \u001b[43mSSLConfig\u001b[49m\u001b[43m(\u001b[49m\n\u001b[0;32m    515\u001b[0m \u001b[43m    \u001b[49m\u001b[43mverify\u001b[49m\u001b[38;5;241;43m=\u001b[39;49m\u001b[43mverify\u001b[49m\u001b[43m,\u001b[49m\u001b[43m \u001b[49m\u001b[43mcert\u001b[49m\u001b[38;5;241;43m=\u001b[39;49m\u001b[43mcert\u001b[49m\u001b[43m,\u001b[49m\u001b[43m \u001b[49m\u001b[43mtrust_env\u001b[49m\u001b[38;5;241;43m=\u001b[39;49m\u001b[43mtrust_env\u001b[49m\n\u001b[0;32m    516\u001b[0m \u001b[43m\u001b[49m\u001b[43m)\u001b[49m\u001b[38;5;241m.\u001b[39mssl_context\n\u001b[0;32m    518\u001b[0m \u001b[38;5;28;01mreturn\u001b[39;00m httpcore\u001b[38;5;241m.\u001b[39mSyncConnectionPool(\n\u001b[0;32m    519\u001b[0m     ssl_context\u001b[38;5;241m=\u001b[39mssl_context,\n\u001b[0;32m    520\u001b[0m     max_keepalive\u001b[38;5;241m=\u001b[39mpool_limits\u001b[38;5;241m.\u001b[39mmax_keepalive,\n\u001b[1;32m   (...)\u001b[0m\n\u001b[0;32m    523\u001b[0m     http2\u001b[38;5;241m=\u001b[39mhttp2,\n\u001b[0;32m    524\u001b[0m )\n",
      "File \u001b[1;32m~\\AppData\\Roaming\\Python\\Python312\\site-packages\\httpx\\_config.py:62\u001b[0m, in \u001b[0;36mSSLConfig.__init__\u001b[1;34m(self, cert, verify, trust_env, http2)\u001b[0m\n\u001b[0;32m     60\u001b[0m \u001b[38;5;28mself\u001b[39m\u001b[38;5;241m.\u001b[39mtrust_env \u001b[38;5;241m=\u001b[39m trust_env\n\u001b[0;32m     61\u001b[0m \u001b[38;5;28mself\u001b[39m\u001b[38;5;241m.\u001b[39mhttp2 \u001b[38;5;241m=\u001b[39m http2\n\u001b[1;32m---> 62\u001b[0m \u001b[38;5;28mself\u001b[39m\u001b[38;5;241m.\u001b[39mssl_context \u001b[38;5;241m=\u001b[39m \u001b[38;5;28;43mself\u001b[39;49m\u001b[38;5;241;43m.\u001b[39;49m\u001b[43mload_ssl_context\u001b[49m\u001b[43m(\u001b[49m\u001b[43m)\u001b[49m\n",
      "File \u001b[1;32m~\\AppData\\Roaming\\Python\\Python312\\site-packages\\httpx\\_config.py:85\u001b[0m, in \u001b[0;36mSSLConfig.load_ssl_context\u001b[1;34m(self)\u001b[0m\n\u001b[0;32m     76\u001b[0m logger\u001b[38;5;241m.\u001b[39mtrace(\n\u001b[0;32m     77\u001b[0m     \u001b[38;5;124mf\u001b[39m\u001b[38;5;124m\"\u001b[39m\u001b[38;5;124mload_ssl_context \u001b[39m\u001b[38;5;124m\"\u001b[39m\n\u001b[0;32m     78\u001b[0m     \u001b[38;5;124mf\u001b[39m\u001b[38;5;124m\"\u001b[39m\u001b[38;5;124mverify=\u001b[39m\u001b[38;5;132;01m{\u001b[39;00m\u001b[38;5;28mself\u001b[39m\u001b[38;5;241m.\u001b[39mverify\u001b[38;5;132;01m!r}\u001b[39;00m\u001b[38;5;124m \u001b[39m\u001b[38;5;124m\"\u001b[39m\n\u001b[1;32m   (...)\u001b[0m\n\u001b[0;32m     81\u001b[0m     \u001b[38;5;124mf\u001b[39m\u001b[38;5;124m\"\u001b[39m\u001b[38;5;124mhttp2=\u001b[39m\u001b[38;5;132;01m{\u001b[39;00m\u001b[38;5;28mself\u001b[39m\u001b[38;5;241m.\u001b[39mhttp2\u001b[38;5;132;01m!r}\u001b[39;00m\u001b[38;5;124m\"\u001b[39m\n\u001b[0;32m     82\u001b[0m )\n\u001b[0;32m     84\u001b[0m \u001b[38;5;28;01mif\u001b[39;00m \u001b[38;5;28mself\u001b[39m\u001b[38;5;241m.\u001b[39mverify:\n\u001b[1;32m---> 85\u001b[0m     \u001b[38;5;28;01mreturn\u001b[39;00m \u001b[38;5;28;43mself\u001b[39;49m\u001b[38;5;241;43m.\u001b[39;49m\u001b[43mload_ssl_context_verify\u001b[49m\u001b[43m(\u001b[49m\u001b[43m)\u001b[49m\n\u001b[0;32m     86\u001b[0m \u001b[38;5;28;01mreturn\u001b[39;00m \u001b[38;5;28mself\u001b[39m\u001b[38;5;241m.\u001b[39mload_ssl_context_no_verify()\n",
      "File \u001b[1;32m~\\AppData\\Roaming\\Python\\Python312\\site-packages\\httpx\\_config.py:142\u001b[0m, in \u001b[0;36mSSLConfig.load_ssl_context_verify\u001b[1;34m(self)\u001b[0m\n\u001b[0;32m    140\u001b[0m \u001b[38;5;28;01mif\u001b[39;00m ca_bundle_path\u001b[38;5;241m.\u001b[39mis_file():\n\u001b[0;32m    141\u001b[0m     logger\u001b[38;5;241m.\u001b[39mtrace(\u001b[38;5;124mf\u001b[39m\u001b[38;5;124m\"\u001b[39m\u001b[38;5;124mload_verify_locations cafile=\u001b[39m\u001b[38;5;132;01m{\u001b[39;00mca_bundle_path\u001b[38;5;132;01m!s}\u001b[39;00m\u001b[38;5;124m\"\u001b[39m)\n\u001b[1;32m--> 142\u001b[0m     \u001b[43mcontext\u001b[49m\u001b[38;5;241;43m.\u001b[39;49m\u001b[43mload_verify_locations\u001b[49m\u001b[43m(\u001b[49m\u001b[43mcafile\u001b[49m\u001b[38;5;241;43m=\u001b[39;49m\u001b[38;5;28;43mstr\u001b[39;49m\u001b[43m(\u001b[49m\u001b[43mca_bundle_path\u001b[49m\u001b[43m)\u001b[49m\u001b[43m)\u001b[49m\n\u001b[0;32m    143\u001b[0m \u001b[38;5;28;01melif\u001b[39;00m ca_bundle_path\u001b[38;5;241m.\u001b[39mis_dir():\n\u001b[0;32m    144\u001b[0m     logger\u001b[38;5;241m.\u001b[39mtrace(\u001b[38;5;124mf\u001b[39m\u001b[38;5;124m\"\u001b[39m\u001b[38;5;124mload_verify_locations capath=\u001b[39m\u001b[38;5;132;01m{\u001b[39;00mca_bundle_path\u001b[38;5;132;01m!s}\u001b[39;00m\u001b[38;5;124m\"\u001b[39m)\n",
      "\u001b[1;31mKeyboardInterrupt\u001b[0m: "
     ]
    }
   ],
   "source": [
    "for word in data_8:\n",
    "    trans = get_translation(word)\n",
    "    dataset.append((word,trans))"
   ]
  },
  {
   "cell_type": "code",
   "execution_count": 262,
   "id": "a3fffbf8-78f4-470b-b849-5dc6ef6d6472",
   "metadata": {},
   "outputs": [
    {
     "data": {
      "text/plain": [
       "3889"
      ]
     },
     "execution_count": 262,
     "metadata": {},
     "output_type": "execute_result"
    }
   ],
   "source": [
    "len(dataset)"
   ]
  },
  {
   "cell_type": "code",
   "execution_count": 263,
   "id": "04214128-4771-4ad8-afcd-144d595c1aa7",
   "metadata": {},
   "outputs": [],
   "source": [
    "csv_file_path = \"D:/Pythonn/Eng-Tel.csv\""
   ]
  },
  {
   "cell_type": "code",
   "execution_count": 274,
   "id": "f9d54524-eb8f-4b63-88f7-b34fc360d099",
   "metadata": {},
   "outputs": [],
   "source": [
    "with open(csv_file_path, mode='w', newline='', encoding='utf-8') as file:\n",
    "    writer = csv.writer(file)\n",
    "    writer.writerow([\"English Word\", \"Telugu Translation\"])  # Writing the header\n",
    "    writer.writerows(dataset)\n"
   ]
  },
  {
   "cell_type": "code",
   "execution_count": 265,
   "id": "7d658710-8b45-4d33-acb8-c161cd1c3c40",
   "metadata": {},
   "outputs": [],
   "source": [
    "import csv"
   ]
  },
  {
   "cell_type": "code",
   "execution_count": 269,
   "id": "a59d31fb-41c6-4090-9ce0-0702cedab6e9",
   "metadata": {},
   "outputs": [],
   "source": [
    "import pandas as pd"
   ]
  },
  {
   "cell_type": "code",
   "execution_count": 275,
   "id": "5b8e41c1-2865-4949-8869-0d28c7fc511b",
   "metadata": {},
   "outputs": [],
   "source": [
    "df = pd.read_csv(\"D:/Pythonn/Eng-Tel.csv\")"
   ]
  },
  {
   "cell_type": "code",
   "execution_count": 276,
   "id": "5f63c1c5-728f-48aa-82fc-4957cceb7ac8",
   "metadata": {},
   "outputs": [
    {
     "data": {
      "text/html": [
       "<div>\n",
       "<style scoped>\n",
       "    .dataframe tbody tr th:only-of-type {\n",
       "        vertical-align: middle;\n",
       "    }\n",
       "\n",
       "    .dataframe tbody tr th {\n",
       "        vertical-align: top;\n",
       "    }\n",
       "\n",
       "    .dataframe thead th {\n",
       "        text-align: right;\n",
       "    }\n",
       "</style>\n",
       "<table border=\"1\" class=\"dataframe\">\n",
       "  <thead>\n",
       "    <tr style=\"text-align: right;\">\n",
       "      <th></th>\n",
       "      <th>English Word</th>\n",
       "      <th>Telugu Translation</th>\n",
       "    </tr>\n",
       "  </thead>\n",
       "  <tbody>\n",
       "    <tr>\n",
       "      <th>0</th>\n",
       "      <td>The</td>\n",
       "      <td>ది</td>\n",
       "    </tr>\n",
       "    <tr>\n",
       "      <th>1</th>\n",
       "      <td>Lion</td>\n",
       "      <td>సింహం</td>\n",
       "    </tr>\n",
       "    <tr>\n",
       "      <th>2</th>\n",
       "      <td>King</td>\n",
       "      <td>రాజు</td>\n",
       "    </tr>\n",
       "    <tr>\n",
       "      <th>3</th>\n",
       "      <td>is</td>\n",
       "      <td>ఉంది</td>\n",
       "    </tr>\n",
       "    <tr>\n",
       "      <th>4</th>\n",
       "      <td>American</td>\n",
       "      <td>అమెరికన్</td>\n",
       "    </tr>\n",
       "  </tbody>\n",
       "</table>\n",
       "</div>"
      ],
      "text/plain": [
       "  English Word Telugu Translation\n",
       "0          The                 ది\n",
       "1         Lion              సింహం\n",
       "2         King               రాజు\n",
       "3           is               ఉంది\n",
       "4     American           అమెరికన్"
      ]
     },
     "execution_count": 276,
     "metadata": {},
     "output_type": "execute_result"
    }
   ],
   "source": [
    "df.head(5)"
   ]
  },
  {
   "cell_type": "code",
   "execution_count": null,
   "id": "feab1b40-7214-4266-b7de-ba157e997afd",
   "metadata": {},
   "outputs": [],
   "source": []
  }
 ],
 "metadata": {
  "kernelspec": {
   "display_name": "Python 3 (ipykernel)",
   "language": "python",
   "name": "python3"
  },
  "language_info": {
   "codemirror_mode": {
    "name": "ipython",
    "version": 3
   },
   "file_extension": ".py",
   "mimetype": "text/x-python",
   "name": "python",
   "nbconvert_exporter": "python",
   "pygments_lexer": "ipython3",
   "version": "3.12.3"
  }
 },
 "nbformat": 4,
 "nbformat_minor": 5
}
